{
 "cells": [
  {
   "cell_type": "code",
   "execution_count": 1,
   "id": "amazing-detection",
   "metadata": {
    "execution": {
     "iopub.execute_input": "2021-06-30T03:26:09.519008Z",
     "iopub.status.busy": "2021-06-30T03:26:09.517748Z",
     "iopub.status.idle": "2021-06-30T03:26:21.961623Z",
     "shell.execute_reply": "2021-06-30T03:26:21.963093Z",
     "shell.execute_reply.started": "2021-06-30T03:23:08.464620Z"
    },
    "papermill": {
     "duration": 12.521702,
     "end_time": "2021-06-30T03:26:21.963805",
     "exception": false,
     "start_time": "2021-06-30T03:26:09.442103",
     "status": "completed"
    },
    "tags": []
   },
   "outputs": [],
   "source": [
    "# Importing libraries\n",
    "import warnings\n",
    "warnings.filterwarnings('ignore')\n",
    "from sklearn.model_selection import cross_val_score\n",
    "from sklearn.model_selection import StratifiedKFold\n",
    "from sklearn.model_selection import GridSearchCV\n",
    "import numpy as np\n",
    "import pandas as pd\n",
    "from sklearn.svm import SVC\n",
    "from sklearn.model_selection import train_test_split\n",
    "from tensorflow.keras.utils import to_categorical\n",
    "import seaborn as sns\n",
    "import matplotlib.pyplot as plt\n",
    "from sklearn.preprocessing import MinMaxScaler\n",
    "from sklearn.neighbors import KNeighborsClassifier\n",
    "from sklearn.neural_network import MLPClassifier\n",
    "import tensorflow as tf\n",
    "from tensorflow import keras\n",
    "from mlxtend.plotting import plot_decision_regions"
   ]
  },
  {
   "cell_type": "markdown",
   "id": "executed-convert",
   "metadata": {
    "papermill": {
     "duration": 0.088411,
     "end_time": "2021-06-30T03:26:22.112141",
     "exception": false,
     "start_time": "2021-06-30T03:26:22.023730",
     "status": "completed"
    },
    "tags": []
   },
   "source": [
    "## Section 01:- Reading Data and Checking the Meta information"
   ]
  },
  {
   "cell_type": "code",
   "execution_count": 2,
   "id": "complete-crazy",
   "metadata": {
    "execution": {
     "iopub.execute_input": "2021-06-30T03:26:22.268503Z",
     "iopub.status.busy": "2021-06-30T03:26:22.267635Z",
     "iopub.status.idle": "2021-06-30T03:26:22.478123Z",
     "shell.execute_reply": "2021-06-30T03:26:22.479426Z",
     "shell.execute_reply.started": "2021-06-30T03:23:08.583260Z"
    },
    "papermill": {
     "duration": 0.28269,
     "end_time": "2021-06-30T03:26:22.479809",
     "exception": false,
     "start_time": "2021-06-30T03:26:22.197119",
     "status": "completed"
    },
    "tags": []
   },
   "outputs": [
    {
     "name": "stdout",
     "output_type": "stream",
     "text": [
      "<class 'pandas.core.frame.DataFrame'>\n",
      "RangeIndex: 211 entries, 0 to 210\n",
      "Data columns (total 26 columns):\n",
      " #   Column                          Non-Null Count  Dtype \n",
      "---  ------                          --------------  ----- \n",
      " 0   Age                             211 non-null    object\n",
      " 1   Gender                          211 non-null    object\n",
      " 2   Education                       211 non-null    object\n",
      " 3   Enjoyable with-                 211 non-null    object\n",
      " 4   Live with                       211 non-null    object\n",
      " 5   Conflict with law               211 non-null    object\n",
      " 6   Motive about drug               211 non-null    object\n",
      " 7   Spend most time                 211 non-null    object\n",
      " 8   Failure in life                 211 non-null    object\n",
      " 9   Mental/emotional problem        211 non-null    object\n",
      " 10  Suicidal thoughts               211 non-null    object\n",
      " 11  Family relationship             211 non-null    object\n",
      " 12  Financials of family            211 non-null    object\n",
      " 13  Addicted person in family       211 non-null    object\n",
      " 14  no. of friends                  211 non-null    object\n",
      " 15  Withdrawal symptoms             211 non-null    object\n",
      " 16  friends� houses at night        211 non-null    object\n",
      " 17  Satisfied with workplace        211 non-null    object\n",
      " 18  Case in court                   211 non-null    object\n",
      " 19  Living with drug user           211 non-null    object\n",
      " 20  Smoking                         211 non-null    object\n",
      " 21  Ever taken drug                 211 non-null    object\n",
      " 22  Friends influence               211 non-null    object\n",
      " 23  If chance given to taste drugs  211 non-null    object\n",
      " 24  Easy to control use of drug     211 non-null    object\n",
      " 25  Frequency of drug usage         211 non-null    object\n",
      "dtypes: object(26)\n",
      "memory usage: 43.0+ KB\n"
     ]
    },
    {
     "data": {
      "text/html": [
       "<div>\n",
       "<style scoped>\n",
       "    .dataframe tbody tr th:only-of-type {\n",
       "        vertical-align: middle;\n",
       "    }\n",
       "\n",
       "    .dataframe tbody tr th {\n",
       "        vertical-align: top;\n",
       "    }\n",
       "\n",
       "    .dataframe thead th {\n",
       "        text-align: right;\n",
       "    }\n",
       "</style>\n",
       "<table border=\"1\" class=\"dataframe\">\n",
       "  <thead>\n",
       "    <tr style=\"text-align: right;\">\n",
       "      <th></th>\n",
       "      <th>Age</th>\n",
       "      <th>Gender</th>\n",
       "      <th>Education</th>\n",
       "      <th>Enjoyable with-</th>\n",
       "      <th>Live with</th>\n",
       "      <th>Conflict with law</th>\n",
       "      <th>Motive about drug</th>\n",
       "      <th>Spend most time</th>\n",
       "      <th>Failure in life</th>\n",
       "      <th>Mental/emotional problem</th>\n",
       "      <th>...</th>\n",
       "      <th>friends� houses at night</th>\n",
       "      <th>Satisfied with workplace</th>\n",
       "      <th>Case in court</th>\n",
       "      <th>Living with drug user</th>\n",
       "      <th>Smoking</th>\n",
       "      <th>Ever taken drug</th>\n",
       "      <th>Friends influence</th>\n",
       "      <th>If chance given to taste drugs</th>\n",
       "      <th>Easy to control use of drug</th>\n",
       "      <th>Frequency of drug usage</th>\n",
       "    </tr>\n",
       "  </thead>\n",
       "  <tbody>\n",
       "    <tr>\n",
       "      <th>count</th>\n",
       "      <td>211</td>\n",
       "      <td>211</td>\n",
       "      <td>211</td>\n",
       "      <td>211</td>\n",
       "      <td>211</td>\n",
       "      <td>211</td>\n",
       "      <td>211</td>\n",
       "      <td>211</td>\n",
       "      <td>211</td>\n",
       "      <td>211</td>\n",
       "      <td>...</td>\n",
       "      <td>211</td>\n",
       "      <td>211</td>\n",
       "      <td>211</td>\n",
       "      <td>211</td>\n",
       "      <td>211</td>\n",
       "      <td>211</td>\n",
       "      <td>211</td>\n",
       "      <td>211</td>\n",
       "      <td>211</td>\n",
       "      <td>211</td>\n",
       "    </tr>\n",
       "    <tr>\n",
       "      <th>unique</th>\n",
       "      <td>4</td>\n",
       "      <td>2</td>\n",
       "      <td>5</td>\n",
       "      <td>3</td>\n",
       "      <td>2</td>\n",
       "      <td>2</td>\n",
       "      <td>7</td>\n",
       "      <td>3</td>\n",
       "      <td>2</td>\n",
       "      <td>17</td>\n",
       "      <td>...</td>\n",
       "      <td>3</td>\n",
       "      <td>2</td>\n",
       "      <td>2</td>\n",
       "      <td>3</td>\n",
       "      <td>3</td>\n",
       "      <td>2</td>\n",
       "      <td>2</td>\n",
       "      <td>3</td>\n",
       "      <td>2</td>\n",
       "      <td>4</td>\n",
       "    </tr>\n",
       "    <tr>\n",
       "      <th>top</th>\n",
       "      <td>between 22 to 35 years</td>\n",
       "      <td>Male</td>\n",
       "      <td>Undergraduate</td>\n",
       "      <td>I have no idea</td>\n",
       "      <td>With Family/Relatives</td>\n",
       "      <td>No</td>\n",
       "      <td>Should avoid</td>\n",
       "      <td>Friends</td>\n",
       "      <td>Yes</td>\n",
       "      <td>Depression/ inferiority/Guilt</td>\n",
       "      <td>...</td>\n",
       "      <td>Sometimes</td>\n",
       "      <td>Yes</td>\n",
       "      <td>No</td>\n",
       "      <td>No</td>\n",
       "      <td>Yes, every day.</td>\n",
       "      <td>No</td>\n",
       "      <td>No, they don't</td>\n",
       "      <td>no, i'll not</td>\n",
       "      <td>Yes, It's possible</td>\n",
       "      <td>Never/ Not applicable</td>\n",
       "    </tr>\n",
       "    <tr>\n",
       "      <th>freq</th>\n",
       "      <td>122</td>\n",
       "      <td>142</td>\n",
       "      <td>132</td>\n",
       "      <td>122</td>\n",
       "      <td>130</td>\n",
       "      <td>159</td>\n",
       "      <td>83</td>\n",
       "      <td>127</td>\n",
       "      <td>109</td>\n",
       "      <td>44</td>\n",
       "      <td>...</td>\n",
       "      <td>111</td>\n",
       "      <td>132</td>\n",
       "      <td>184</td>\n",
       "      <td>125</td>\n",
       "      <td>90</td>\n",
       "      <td>114</td>\n",
       "      <td>134</td>\n",
       "      <td>83</td>\n",
       "      <td>157</td>\n",
       "      <td>110</td>\n",
       "    </tr>\n",
       "  </tbody>\n",
       "</table>\n",
       "<p>4 rows × 26 columns</p>\n",
       "</div>"
      ],
      "text/plain": [
       "                           Age Gender      Education Enjoyable with-  \\\n",
       "count                      211    211            211             211   \n",
       "unique                       4      2              5               3   \n",
       "top     between 22 to 35 years   Male  Undergraduate  I have no idea   \n",
       "freq                       122    142            132             122   \n",
       "\n",
       "                    Live with Conflict with law Motive about drug  \\\n",
       "count                     211               211               211   \n",
       "unique                      2                 2                 7   \n",
       "top     With Family/Relatives                No      Should avoid   \n",
       "freq                      130               159                83   \n",
       "\n",
       "       Spend most time Failure in life       Mental/emotional problem  ...  \\\n",
       "count              211             211                            211  ...   \n",
       "unique               3               2                             17  ...   \n",
       "top            Friends             Yes  Depression/ inferiority/Guilt  ...   \n",
       "freq               127             109                             44  ...   \n",
       "\n",
       "       friends� houses at night Satisfied with workplace Case in court  \\\n",
       "count                       211                      211           211   \n",
       "unique                        3                        2             2   \n",
       "top                   Sometimes                      Yes            No   \n",
       "freq                        111                      132           184   \n",
       "\n",
       "       Living with drug user          Smoking Ever taken drug  \\\n",
       "count                    211              211             211   \n",
       "unique                     3                3               2   \n",
       "top                       No  Yes, every day.              No   \n",
       "freq                     125               90             114   \n",
       "\n",
       "       Friends influence If chance given to taste drugs  \\\n",
       "count                211                            211   \n",
       "unique                 2                              3   \n",
       "top       No, they don't                   no, i'll not   \n",
       "freq                 134                             83   \n",
       "\n",
       "       Easy to control use of drug Frequency of drug usage  \n",
       "count                          211                     211  \n",
       "unique                           2                       4  \n",
       "top             Yes, It's possible   Never/ Not applicable  \n",
       "freq                           157                     110  \n",
       "\n",
       "[4 rows x 26 columns]"
      ]
     },
     "execution_count": 2,
     "metadata": {},
     "output_type": "execute_result"
    }
   ],
   "source": [
    "df = pd.read_csv('../input/drug-addiction-in-bangladesh-reasons/drugAddiction.csv')\n",
    "df.info()\n",
    "df.describe()"
   ]
  },
  {
   "cell_type": "markdown",
   "id": "hourly-holly",
   "metadata": {
    "papermill": {
     "duration": 0.063843,
     "end_time": "2021-06-30T03:26:22.613125",
     "exception": false,
     "start_time": "2021-06-30T03:26:22.549282",
     "status": "completed"
    },
    "tags": []
   },
   "source": [
    "## Section 02:- EDA"
   ]
  },
  {
   "cell_type": "code",
   "execution_count": 3,
   "id": "alleged-impression",
   "metadata": {
    "execution": {
     "iopub.execute_input": "2021-06-30T03:26:22.743888Z",
     "iopub.status.busy": "2021-06-30T03:26:22.742941Z",
     "iopub.status.idle": "2021-06-30T03:26:22.762368Z",
     "shell.execute_reply": "2021-06-30T03:26:22.763258Z",
     "shell.execute_reply.started": "2021-06-30T03:23:08.677300Z"
    },
    "papermill": {
     "duration": 0.090158,
     "end_time": "2021-06-30T03:26:22.763599",
     "exception": false,
     "start_time": "2021-06-30T03:26:22.673441",
     "status": "completed"
    },
    "tags": []
   },
   "outputs": [
    {
     "data": {
      "text/plain": [
       "Age                               6\n",
       "Gender                            6\n",
       "Education                         6\n",
       "Enjoyable with-                   6\n",
       "Live with                         6\n",
       "Conflict with law                 6\n",
       "Motive about drug                 6\n",
       "Spend most time                   6\n",
       "Failure in life                   6\n",
       "Mental/emotional problem          6\n",
       "Suicidal thoughts                 6\n",
       "Family relationship               6\n",
       "Financials of family              6\n",
       "Addicted person in family         6\n",
       "no. of friends                    6\n",
       "Withdrawal symptoms               6\n",
       "friends� houses at night          6\n",
       "Satisfied with workplace          6\n",
       "Case in court                     6\n",
       "Living with drug user             6\n",
       "Smoking                           6\n",
       "Ever taken drug                   6\n",
       "Friends influence                 6\n",
       "If chance given to taste drugs    6\n",
       "Easy to control use of drug       6\n",
       "Frequency of drug usage           6\n",
       "dtype: int64"
      ]
     },
     "execution_count": 3,
     "metadata": {},
     "output_type": "execute_result"
    }
   ],
   "source": [
    "df[df.duplicated()].count()"
   ]
  },
  {
   "cell_type": "code",
   "execution_count": 4,
   "id": "joined-flower",
   "metadata": {
    "execution": {
     "iopub.execute_input": "2021-06-30T03:26:22.901281Z",
     "iopub.status.busy": "2021-06-30T03:26:22.899787Z",
     "iopub.status.idle": "2021-06-30T03:26:23.449946Z",
     "shell.execute_reply": "2021-06-30T03:26:23.449157Z",
     "shell.execute_reply.started": "2021-06-30T03:23:08.751513Z"
    },
    "papermill": {
     "duration": 0.614997,
     "end_time": "2021-06-30T03:26:23.450140",
     "exception": false,
     "start_time": "2021-06-30T03:26:22.835143",
     "status": "completed"
    },
    "tags": []
   },
   "outputs": [
    {
     "data": {
      "text/plain": [
       "<AxesSubplot:xlabel='Suicidal thoughts', ylabel='count'>"
      ]
     },
     "execution_count": 4,
     "metadata": {},
     "output_type": "execute_result"
    },
    {
     "data": {
      "image/png": "[encoded data removed]",
      "text/plain": [
       "<Figure size 432x288 with 1 Axes>"
      ]
     },
     "metadata": {
      "needs_background": "light"
     },
     "output_type": "display_data"
    }
   ],
   "source": [
    "sns.countplot(x='Suicidal thoughts',hue='Gender',data=df,palette='RdBu_r')"
   ]
  },
  {
   "cell_type": "markdown",
   "id": "fancy-bones",
   "metadata": {
    "papermill": {
     "duration": 0.06232,
     "end_time": "2021-06-30T03:26:23.572637",
     "exception": false,
     "start_time": "2021-06-30T03:26:23.510317",
     "status": "completed"
    },
    "tags": []
   },
   "source": [
    "* <h4> <b> From the above plot we see suicidal thoughts are more in Male compared to Female.</b></h4>"
   ]
  },
  {
   "cell_type": "code",
   "execution_count": 5,
   "id": "internal-incidence",
   "metadata": {
    "execution": {
     "iopub.execute_input": "2021-06-30T03:26:23.759918Z",
     "iopub.status.busy": "2021-06-30T03:26:23.756212Z",
     "iopub.status.idle": "2021-06-30T03:26:24.041943Z",
     "shell.execute_reply": "2021-06-30T03:26:24.041079Z",
     "shell.execute_reply.started": "2021-06-30T03:23:08.907222Z"
    },
    "papermill": {
     "duration": 0.408007,
     "end_time": "2021-06-30T03:26:24.042131",
     "exception": false,
     "start_time": "2021-06-30T03:26:23.634124",
     "status": "completed"
    },
    "tags": []
   },
   "outputs": [
    {
     "data": {
      "image/png": "[encoded data removed]",
      "text/plain": [
       "<Figure size 864x360 with 1 Axes>"
      ]
     },
     "metadata": {
      "needs_background": "light"
     },
     "output_type": "display_data"
    }
   ],
   "source": [
    "df01 = df.melt( id_vars=['Frequency of drug usage'],value_vars=['Education'], var_name='cols',  value_name='vals')\n",
    "plt.figure(figsize=(12,5))\n",
    "g =sns.countplot(x=\"Frequency of drug usage\", hue='vals', data=df01)"
   ]
  },
  {
   "cell_type": "markdown",
   "id": "continental-grave",
   "metadata": {
    "papermill": {
     "duration": 0.056134,
     "end_time": "2021-06-30T03:26:24.157020",
     "exception": false,
     "start_time": "2021-06-30T03:26:24.100886",
     "status": "completed"
    },
    "tags": []
   },
   "source": [
    "* <h4> <b> From the above plot we see Regular usage of Drug is more common in undergraduates than compared to others</b></h4>"
   ]
  },
  {
   "cell_type": "code",
   "execution_count": 6,
   "id": "uniform-procurement",
   "metadata": {
    "execution": {
     "iopub.execute_input": "2021-06-30T03:26:24.288314Z",
     "iopub.status.busy": "2021-06-30T03:26:24.284588Z",
     "iopub.status.idle": "2021-06-30T03:26:24.503709Z",
     "shell.execute_reply": "2021-06-30T03:26:24.504324Z",
     "shell.execute_reply.started": "2021-06-30T03:23:09.171090Z"
    },
    "papermill": {
     "duration": 0.288707,
     "end_time": "2021-06-30T03:26:24.504713",
     "exception": false,
     "start_time": "2021-06-30T03:26:24.216006",
     "status": "completed"
    },
    "tags": []
   },
   "outputs": [
    {
     "data": {
      "image/png": "[encoded data removed]",
      "text/plain": [
       "<Figure size 864x360 with 1 Axes>"
      ]
     },
     "metadata": {
      "needs_background": "light"
     },
     "output_type": "display_data"
    }
   ],
   "source": [
    "df01 = df.melt( id_vars=['Frequency of drug usage'],value_vars=['Gender'], var_name='cols',  value_name='vals')\n",
    "plt.figure(figsize=(12,5))\n",
    "g =sns.countplot(x=\"Frequency of drug usage\", hue='vals', data=df01)"
   ]
  },
  {
   "cell_type": "markdown",
   "id": "expected-mainland",
   "metadata": {
    "papermill": {
     "duration": 0.059742,
     "end_time": "2021-06-30T03:26:24.624238",
     "exception": false,
     "start_time": "2021-06-30T03:26:24.564496",
     "status": "completed"
    },
    "tags": []
   },
   "source": [
    "* <h4> <b> From the above plot we see Regularly usage of drug is more in Male compared to Female.</b></h4>"
   ]
  },
  {
   "cell_type": "code",
   "execution_count": 7,
   "id": "accepting-durham",
   "metadata": {
    "execution": {
     "iopub.execute_input": "2021-06-30T03:26:24.751307Z",
     "iopub.status.busy": "2021-06-30T03:26:24.750366Z",
     "iopub.status.idle": "2021-06-30T03:26:25.016327Z",
     "shell.execute_reply": "2021-06-30T03:26:25.015409Z",
     "shell.execute_reply.started": "2021-06-30T03:23:09.363658Z"
    },
    "papermill": {
     "duration": 0.332325,
     "end_time": "2021-06-30T03:26:25.016561",
     "exception": false,
     "start_time": "2021-06-30T03:26:24.684236",
     "status": "completed"
    },
    "tags": []
   },
   "outputs": [
    {
     "data": {
      "image/png": "[encoded data removed]",
      "text/plain": [
       "<Figure size 864x360 with 1 Axes>"
      ]
     },
     "metadata": {
      "needs_background": "light"
     },
     "output_type": "display_data"
    }
   ],
   "source": [
    "df01 = df.melt( id_vars=['Frequency of drug usage'],value_vars=['no. of friends'], var_name='cols',  value_name='vals')\n",
    "plt.figure(figsize=(12,5))\n",
    "g =sns.countplot(x=\"Frequency of drug usage\", hue='vals', data=df01)"
   ]
  },
  {
   "cell_type": "markdown",
   "id": "soviet-rating",
   "metadata": {
    "papermill": {
     "duration": 0.062968,
     "end_time": "2021-06-30T03:26:25.146343",
     "exception": false,
     "start_time": "2021-06-30T03:26:25.083375",
     "status": "completed"
    },
    "tags": []
   },
   "source": [
    "* <h4> <b> From the above plot we see Regularly usage of drug is more when person is having more than 5 friends.</b></h4>"
   ]
  },
  {
   "cell_type": "code",
   "execution_count": 8,
   "id": "engaged-movement",
   "metadata": {
    "execution": {
     "iopub.execute_input": "2021-06-30T03:26:25.297096Z",
     "iopub.status.busy": "2021-06-30T03:26:25.295695Z",
     "iopub.status.idle": "2021-06-30T03:26:25.568662Z",
     "shell.execute_reply": "2021-06-30T03:26:25.567957Z",
     "shell.execute_reply.started": "2021-06-30T03:23:09.578012Z"
    },
    "papermill": {
     "duration": 0.35569,
     "end_time": "2021-06-30T03:26:25.568864",
     "exception": false,
     "start_time": "2021-06-30T03:26:25.213174",
     "status": "completed"
    },
    "tags": []
   },
   "outputs": [
    {
     "data": {
      "image/png": "[encoded data removed]",
      "text/plain": [
       "<Figure size 864x360 with 1 Axes>"
      ]
     },
     "metadata": {
      "needs_background": "light"
     },
     "output_type": "display_data"
    }
   ],
   "source": [
    "df01 = df.melt( id_vars=['Frequency of drug usage'],value_vars=['Family relationship'], var_name='cols',  value_name='vals')\n",
    "plt.figure(figsize=(12,5))\n",
    "g =sns.countplot(x=\"Frequency of drug usage\", hue='vals', data=df01)"
   ]
  },
  {
   "cell_type": "markdown",
   "id": "fixed-dominant",
   "metadata": {
    "papermill": {
     "duration": 0.062883,
     "end_time": "2021-06-30T03:26:25.696263",
     "exception": false,
     "start_time": "2021-06-30T03:26:25.633380",
     "status": "completed"
    },
    "tags": []
   },
   "source": [
    "* <h4> <b> From the above plot we see Regularly usage of drug is more in person whose Family relationship is average.</b></h4>"
   ]
  },
  {
   "cell_type": "code",
   "execution_count": 9,
   "id": "innovative-pizza",
   "metadata": {
    "execution": {
     "iopub.execute_input": "2021-06-30T03:26:25.847764Z",
     "iopub.status.busy": "2021-06-30T03:26:25.846568Z",
     "iopub.status.idle": "2021-06-30T03:26:26.142294Z",
     "shell.execute_reply": "2021-06-30T03:26:26.141337Z",
     "shell.execute_reply.started": "2021-06-30T03:23:09.790664Z"
    },
    "papermill": {
     "duration": 0.383375,
     "end_time": "2021-06-30T03:26:26.142542",
     "exception": false,
     "start_time": "2021-06-30T03:26:25.759167",
     "status": "completed"
    },
    "tags": []
   },
   "outputs": [
    {
     "data": {
      "image/png": "[encoded data removed]",
      "text/plain": [
       "<Figure size 864x360 with 1 Axes>"
      ]
     },
     "metadata": {
      "needs_background": "light"
     },
     "output_type": "display_data"
    }
   ],
   "source": [
    "df01 = df.melt( id_vars=['Frequency of drug usage'],value_vars=['Age'], var_name='cols',  value_name='vals')\n",
    "plt.figure(figsize=(12,5))\n",
    "g =sns.countplot(x=\"Frequency of drug usage\", hue='vals', data=df01)"
   ]
  },
  {
   "cell_type": "markdown",
   "id": "alpha-fountain",
   "metadata": {
    "papermill": {
     "duration": 0.069764,
     "end_time": "2021-06-30T03:26:26.279629",
     "exception": false,
     "start_time": "2021-06-30T03:26:26.209865",
     "status": "completed"
    },
    "tags": []
   },
   "source": [
    "* <h4> <b> From the above plot we see Regularly usage of drug is more between age group of 22 to 35</b></h4>"
   ]
  },
  {
   "cell_type": "code",
   "execution_count": 10,
   "id": "chinese-service",
   "metadata": {
    "execution": {
     "iopub.execute_input": "2021-06-30T03:26:26.428938Z",
     "iopub.status.busy": "2021-06-30T03:26:26.425535Z",
     "iopub.status.idle": "2021-06-30T03:26:26.702945Z",
     "shell.execute_reply": "2021-06-30T03:26:26.703526Z",
     "shell.execute_reply.started": "2021-06-30T03:23:10.026922Z"
    },
    "papermill": {
     "duration": 0.357398,
     "end_time": "2021-06-30T03:26:26.703783",
     "exception": false,
     "start_time": "2021-06-30T03:26:26.346385",
     "status": "completed"
    },
    "tags": []
   },
   "outputs": [
    {
     "data": {
      "image/png": "[encoded data removed]",
      "text/plain": [
       "<Figure size 864x360 with 1 Axes>"
      ]
     },
     "metadata": {
      "needs_background": "light"
     },
     "output_type": "display_data"
    }
   ],
   "source": [
    "df01 = df.melt( id_vars=['Frequency of drug usage'],value_vars=['Financials of family'], var_name='cols',  value_name='vals')\n",
    "plt.figure(figsize=(12,5))\n",
    "g =sns.countplot(x=\"Frequency of drug usage\", hue='vals', data=df01)"
   ]
  },
  {
   "cell_type": "markdown",
   "id": "streaming-circumstances",
   "metadata": {
    "papermill": {
     "duration": 0.058658,
     "end_time": "2021-06-30T03:26:26.824614",
     "exception": false,
     "start_time": "2021-06-30T03:26:26.765956",
     "status": "completed"
    },
    "tags": []
   },
   "source": [
    "* <h4> <b> From the above plot we see Regularly usage of drug is more in people belonging to Poor/weak section of society</b></h4>"
   ]
  },
  {
   "cell_type": "code",
   "execution_count": 11,
   "id": "signal-bride",
   "metadata": {
    "execution": {
     "iopub.execute_input": "2021-06-30T03:26:27.018090Z",
     "iopub.status.busy": "2021-06-30T03:26:27.014319Z",
     "iopub.status.idle": "2021-06-30T03:26:27.343017Z",
     "shell.execute_reply": "2021-06-30T03:26:27.343647Z",
     "shell.execute_reply.started": "2021-06-30T03:23:10.253414Z"
    },
    "papermill": {
     "duration": 0.454693,
     "end_time": "2021-06-30T03:26:27.343938",
     "exception": false,
     "start_time": "2021-06-30T03:26:26.889245",
     "status": "completed"
    },
    "tags": []
   },
   "outputs": [
    {
     "data": {
      "image/png": "[encoded data removed]",
      "text/plain": [
       "<Figure size 864x360 with 1 Axes>"
      ]
     },
     "metadata": {
      "needs_background": "light"
     },
     "output_type": "display_data"
    }
   ],
   "source": [
    "df01 = df.melt( id_vars=['Frequency of drug usage'],value_vars=['Motive about drug'], var_name='cols',  value_name='vals')\n",
    "plt.figure(figsize=(12,5))\n",
    "g =sns.countplot(x=\"Frequency of drug usage\", hue='vals', data=df01)"
   ]
  },
  {
   "cell_type": "markdown",
   "id": "sealed-revision",
   "metadata": {
    "papermill": {
     "duration": 0.06767,
     "end_time": "2021-06-30T03:26:27.484993",
     "exception": false,
     "start_time": "2021-06-30T03:26:27.417323",
     "status": "completed"
    },
    "tags": []
   },
   "source": [
    "* <h4> <b> From the above plot we see Regularly usage of drug is more in people who are influenced by social trends</b></h4>"
   ]
  },
  {
   "cell_type": "code",
   "execution_count": 12,
   "id": "focal-desktop",
   "metadata": {
    "execution": {
     "iopub.execute_input": "2021-06-30T03:26:27.668196Z",
     "iopub.status.busy": "2021-06-30T03:26:27.666942Z",
     "iopub.status.idle": "2021-06-30T03:26:27.850755Z",
     "shell.execute_reply": "2021-06-30T03:26:27.851279Z",
     "shell.execute_reply.started": "2021-06-30T03:23:10.542350Z"
    },
    "papermill": {
     "duration": 0.297139,
     "end_time": "2021-06-30T03:26:27.851544",
     "exception": false,
     "start_time": "2021-06-30T03:26:27.554405",
     "status": "completed"
    },
    "tags": []
   },
   "outputs": [
    {
     "data": {
      "image/png": "[encoded data removed]",
      "text/plain": [
       "<Figure size 864x360 with 1 Axes>"
      ]
     },
     "metadata": {
      "needs_background": "light"
     },
     "output_type": "display_data"
    }
   ],
   "source": [
    "df01 = df.melt( id_vars=['Frequency of drug usage'],value_vars=['Live with'], var_name='cols',  value_name='vals')\n",
    "plt.figure(figsize=(12,5))\n",
    "g =sns.countplot(x=\"Frequency of drug usage\", hue='vals', data=df01)"
   ]
  },
  {
   "cell_type": "markdown",
   "id": "complex-toddler",
   "metadata": {
    "papermill": {
     "duration": 0.063516,
     "end_time": "2021-06-30T03:26:27.980083",
     "exception": false,
     "start_time": "2021-06-30T03:26:27.916567",
     "status": "completed"
    },
    "tags": []
   },
   "source": [
    "* <h4> <b> From the above plot we see Regularly usage of drug is more in people who stay with their Family</b></h4>"
   ]
  },
  {
   "cell_type": "code",
   "execution_count": 13,
   "id": "educational-position",
   "metadata": {
    "execution": {
     "iopub.execute_input": "2021-06-30T03:26:28.159791Z",
     "iopub.status.busy": "2021-06-30T03:26:28.158833Z",
     "iopub.status.idle": "2021-06-30T03:26:28.344217Z",
     "shell.execute_reply": "2021-06-30T03:26:28.343407Z",
     "shell.execute_reply.started": "2021-06-30T03:23:10.737073Z"
    },
    "papermill": {
     "duration": 0.294516,
     "end_time": "2021-06-30T03:26:28.344401",
     "exception": false,
     "start_time": "2021-06-30T03:26:28.049885",
     "status": "completed"
    },
    "tags": []
   },
   "outputs": [
    {
     "data": {
      "image/png": "[encoded data removed]",
      "text/plain": [
       "<Figure size 864x360 with 1 Axes>"
      ]
     },
     "metadata": {
      "needs_background": "light"
     },
     "output_type": "display_data"
    }
   ],
   "source": [
    "df01 = df.melt( id_vars=['Frequency of drug usage'],value_vars=['Case in court'], var_name='cols',  value_name='vals')\n",
    "plt.figure(figsize=(12,5))\n",
    "g =sns.countplot(x=\"Frequency of drug usage\", hue='vals', data=df01)"
   ]
  },
  {
   "cell_type": "code",
   "execution_count": 14,
   "id": "suspended-replication",
   "metadata": {
    "execution": {
     "iopub.execute_input": "2021-06-30T03:26:28.530108Z",
     "iopub.status.busy": "2021-06-30T03:26:28.498640Z",
     "iopub.status.idle": "2021-06-30T03:26:28.776718Z",
     "shell.execute_reply": "2021-06-30T03:26:28.775610Z",
     "shell.execute_reply.started": "2021-06-30T03:23:10.923192Z"
    },
    "papermill": {
     "duration": 0.363355,
     "end_time": "2021-06-30T03:26:28.776954",
     "exception": false,
     "start_time": "2021-06-30T03:26:28.413599",
     "status": "completed"
    },
    "tags": []
   },
   "outputs": [
    {
     "data": {
      "image/png": "[encoded data removed]",
      "text/plain": [
       "<Figure size 864x360 with 1 Axes>"
      ]
     },
     "metadata": {
      "needs_background": "light"
     },
     "output_type": "display_data"
    }
   ],
   "source": [
    "df01 = df.melt( id_vars=['Frequency of drug usage'],value_vars=['Living with drug user'], var_name='cols',  value_name='vals')\n",
    "plt.figure(figsize=(12,5))\n",
    "g =sns.countplot(x=\"Frequency of drug usage\", hue='vals', data=df01[df['Gender']=='Male'])"
   ]
  },
  {
   "cell_type": "markdown",
   "id": "outside-methodology",
   "metadata": {
    "papermill": {
     "duration": 0.07459,
     "end_time": "2021-06-30T03:26:28.925949",
     "exception": false,
     "start_time": "2021-06-30T03:26:28.851359",
     "status": "completed"
    },
    "tags": []
   },
   "source": [
    "* <h4> <b> From the above plot we see Regularly usage of drug is more in MALE if their friends are used to the drugs</b></h4>"
   ]
  },
  {
   "cell_type": "code",
   "execution_count": 15,
   "id": "controlling-conjunction",
   "metadata": {
    "execution": {
     "iopub.execute_input": "2021-06-30T03:26:29.136716Z",
     "iopub.status.busy": "2021-06-30T03:26:29.128622Z",
     "iopub.status.idle": "2021-06-30T03:26:29.335167Z",
     "shell.execute_reply": "2021-06-30T03:26:29.335748Z",
     "shell.execute_reply.started": "2021-06-30T03:23:11.131416Z"
    },
    "papermill": {
     "duration": 0.33969,
     "end_time": "2021-06-30T03:26:29.336080",
     "exception": false,
     "start_time": "2021-06-30T03:26:28.996390",
     "status": "completed"
    },
    "tags": []
   },
   "outputs": [
    {
     "data": {
      "image/png": "[encoded data removed]",
      "text/plain": [
       "<Figure size 864x360 with 1 Axes>"
      ]
     },
     "metadata": {
      "needs_background": "light"
     },
     "output_type": "display_data"
    }
   ],
   "source": [
    "df01 = df.melt( id_vars=['Frequency of drug usage'],value_vars=['Living with drug user'], var_name='cols',  value_name='vals')\n",
    "plt.figure(figsize=(12,5))\n",
    "g =sns.countplot(x=\"Frequency of drug usage\", hue='vals', data=df01[((df['Gender']==\"Female\"))])\n",
    "\n"
   ]
  },
  {
   "cell_type": "markdown",
   "id": "subject-rings",
   "metadata": {
    "papermill": {
     "duration": 0.073261,
     "end_time": "2021-06-30T03:26:29.481187",
     "exception": false,
     "start_time": "2021-06-30T03:26:29.407926",
     "status": "completed"
    },
    "tags": []
   },
   "source": [
    "* <h4> <b> From the above plot we see Regularly usage of drug Same like Male's Female's are influenced if they are in toch with friend who is regularly using it.</b></h4>"
   ]
  },
  {
   "cell_type": "code",
   "execution_count": 16,
   "id": "pointed-radiation",
   "metadata": {
    "execution": {
     "iopub.execute_input": "2021-06-30T03:26:29.651788Z",
     "iopub.status.busy": "2021-06-30T03:26:29.642381Z",
     "iopub.status.idle": "2021-06-30T03:26:29.863878Z",
     "shell.execute_reply": "2021-06-30T03:26:29.863022Z",
     "shell.execute_reply.started": "2021-06-30T03:23:11.337396Z"
    },
    "papermill": {
     "duration": 0.30856,
     "end_time": "2021-06-30T03:26:29.864071",
     "exception": false,
     "start_time": "2021-06-30T03:26:29.555511",
     "status": "completed"
    },
    "tags": []
   },
   "outputs": [
    {
     "data": {
      "image/png": "[encoded data removed]",
      "text/plain": [
       "<Figure size 864x360 with 1 Axes>"
      ]
     },
     "metadata": {
      "needs_background": "light"
     },
     "output_type": "display_data"
    }
   ],
   "source": [
    "df01 = df.melt( id_vars=['Frequency of drug usage'],value_vars=['Suicidal thoughts'], var_name='cols',  value_name='vals')\n",
    "plt.figure(figsize=(12,5))\n",
    "g =sns.countplot(x=\"Frequency of drug usage\", hue='vals', data=df01[((df['Gender']==\"Male\"))])"
   ]
  },
  {
   "cell_type": "markdown",
   "id": "later-breathing",
   "metadata": {
    "papermill": {
     "duration": 0.076893,
     "end_time": "2021-06-30T03:26:30.010592",
     "exception": false,
     "start_time": "2021-06-30T03:26:29.933699",
     "status": "completed"
    },
    "tags": []
   },
   "source": [
    "* <h4> <b> From the above plot we see Suicidal Ideation is less in Male who are Regularly users of drug </b></h4>"
   ]
  },
  {
   "cell_type": "code",
   "execution_count": 17,
   "id": "negative-compensation",
   "metadata": {
    "execution": {
     "iopub.execute_input": "2021-06-30T03:26:30.219615Z",
     "iopub.status.busy": "2021-06-30T03:26:30.181520Z",
     "iopub.status.idle": "2021-06-30T03:26:30.428209Z",
     "shell.execute_reply": "2021-06-30T03:26:30.427528Z",
     "shell.execute_reply.started": "2021-06-30T03:23:11.521369Z"
    },
    "papermill": {
     "duration": 0.34179,
     "end_time": "2021-06-30T03:26:30.428386",
     "exception": false,
     "start_time": "2021-06-30T03:26:30.086596",
     "status": "completed"
    },
    "tags": []
   },
   "outputs": [
    {
     "data": {
      "image/png": "[encoded data removed]",
      "text/plain": [
       "<Figure size 864x360 with 1 Axes>"
      ]
     },
     "metadata": {
      "needs_background": "light"
     },
     "output_type": "display_data"
    }
   ],
   "source": [
    "df01 = df.melt( id_vars=['Frequency of drug usage'],value_vars=['Suicidal thoughts'], var_name='cols',  value_name='vals')\n",
    "plt.figure(figsize=(12,5))\n",
    "g =sns.countplot(x=\"Frequency of drug usage\", hue='vals', data=df01[((df['Gender']==\"Female\"))])"
   ]
  },
  {
   "cell_type": "markdown",
   "id": "meaningful-willow",
   "metadata": {
    "papermill": {
     "duration": 0.072405,
     "end_time": "2021-06-30T03:26:30.575662",
     "exception": false,
     "start_time": "2021-06-30T03:26:30.503257",
     "status": "completed"
    },
    "tags": []
   },
   "source": [
    "* <h4> <b> From the above plot we see Suicidal Ideation is MORE in Female who are Regular users of drug </b></h4>"
   ]
  },
  {
   "cell_type": "code",
   "execution_count": 18,
   "id": "brown-montgomery",
   "metadata": {
    "execution": {
     "iopub.execute_input": "2021-06-30T03:26:30.737034Z",
     "iopub.status.busy": "2021-06-30T03:26:30.734976Z",
     "iopub.status.idle": "2021-06-30T03:26:31.000045Z",
     "shell.execute_reply": "2021-06-30T03:26:30.999304Z",
     "shell.execute_reply.started": "2021-06-30T03:23:11.987967Z"
    },
    "papermill": {
     "duration": 0.349611,
     "end_time": "2021-06-30T03:26:31.000274",
     "exception": false,
     "start_time": "2021-06-30T03:26:30.650663",
     "status": "completed"
    },
    "tags": []
   },
   "outputs": [
    {
     "data": {
      "image/png": "[encoded data removed]",
      "text/plain": [
       "<Figure size 864x360 with 1 Axes>"
      ]
     },
     "metadata": {
      "needs_background": "light"
     },
     "output_type": "display_data"
    }
   ],
   "source": [
    "df01 = df.melt( id_vars=['Suicidal thoughts'],value_vars=['Education'], var_name='cols',  value_name='vals')\n",
    "plt.figure(figsize=(12,5))\n",
    "g =sns.countplot(x=\"Suicidal thoughts\", hue='vals', data=df01)"
   ]
  },
  {
   "cell_type": "markdown",
   "id": "industrial-builder",
   "metadata": {
    "papermill": {
     "duration": 0.069937,
     "end_time": "2021-06-30T03:26:31.146502",
     "exception": false,
     "start_time": "2021-06-30T03:26:31.076565",
     "status": "completed"
    },
    "tags": []
   },
   "source": [
    "* <h4> <b> From the above plot we see Suicidal Ideation is MORE if the person is Under graduate </b></h4>"
   ]
  },
  {
   "cell_type": "code",
   "execution_count": 19,
   "id": "laughing-switch",
   "metadata": {
    "execution": {
     "iopub.execute_input": "2021-06-30T03:26:31.339088Z",
     "iopub.status.busy": "2021-06-30T03:26:31.328475Z",
     "iopub.status.idle": "2021-06-30T03:26:31.562618Z",
     "shell.execute_reply": "2021-06-30T03:26:31.561931Z",
     "shell.execute_reply.started": "2021-06-30T03:23:12.188315Z"
    },
    "papermill": {
     "duration": 0.343508,
     "end_time": "2021-06-30T03:26:31.562797",
     "exception": false,
     "start_time": "2021-06-30T03:26:31.219289",
     "status": "completed"
    },
    "tags": []
   },
   "outputs": [
    {
     "data": {
      "image/png": "[encoded data removed]",
      "text/plain": [
       "<Figure size 864x360 with 1 Axes>"
      ]
     },
     "metadata": {
      "needs_background": "light"
     },
     "output_type": "display_data"
    }
   ],
   "source": [
    "df01 = df.melt( id_vars=['Frequency of drug usage'],value_vars=['Smoking'], var_name='cols',  value_name='vals')\n",
    "plt.figure(figsize=(12,5))\n",
    "g =sns.countplot(x=\"Frequency of drug usage\", hue='vals', data=df01)"
   ]
  },
  {
   "cell_type": "markdown",
   "id": "operational-symphony",
   "metadata": {
    "papermill": {
     "duration": 0.070286,
     "end_time": "2021-06-30T03:26:31.706847",
     "exception": false,
     "start_time": "2021-06-30T03:26:31.636561",
     "status": "completed"
    },
    "tags": []
   },
   "source": [
    "* <h4> <b> From the above plot we see Regular usage is more in people who are regular/everyday smokers, Intresting fact from the plot is if the person dont smoke he/she may not get in to the Regular usage of drug </b></h4>"
   ]
  },
  {
   "cell_type": "code",
   "execution_count": 20,
   "id": "linear-martin",
   "metadata": {
    "execution": {
     "iopub.execute_input": "2021-06-30T03:26:31.872618Z",
     "iopub.status.busy": "2021-06-30T03:26:31.871325Z",
     "iopub.status.idle": "2021-06-30T03:26:32.088316Z",
     "shell.execute_reply": "2021-06-30T03:26:32.087664Z",
     "shell.execute_reply.started": "2021-06-30T03:23:12.411403Z"
    },
    "papermill": {
     "duration": 0.306663,
     "end_time": "2021-06-30T03:26:32.088507",
     "exception": false,
     "start_time": "2021-06-30T03:26:31.781844",
     "status": "completed"
    },
    "tags": []
   },
   "outputs": [
    {
     "data": {
      "image/png": "[encoded data removed]",
      "text/plain": [
       "<Figure size 864x360 with 1 Axes>"
      ]
     },
     "metadata": {
      "needs_background": "light"
     },
     "output_type": "display_data"
    }
   ],
   "source": [
    "df01 = df.melt( id_vars=['Frequency of drug usage'],value_vars=['Ever taken drug'], var_name='cols',  value_name='vals')\n",
    "plt.figure(figsize=(12,5))\n",
    "g =sns.countplot(x=\"Frequency of drug usage\", hue='vals', data=df01)"
   ]
  },
  {
   "cell_type": "markdown",
   "id": "suspended-bibliography",
   "metadata": {
    "papermill": {
     "duration": 0.073096,
     "end_time": "2021-06-30T03:26:32.241893",
     "exception": false,
     "start_time": "2021-06-30T03:26:32.168797",
     "status": "completed"
    },
    "tags": []
   },
   "source": [
    "* <h4> <b> Regulary usage of Drug from the above plot is bit contradictory since few people have answered Ever taken drug to NO but still they have answered as they are regular users of Drug </b></h4>"
   ]
  },
  {
   "cell_type": "code",
   "execution_count": 21,
   "id": "buried-hygiene",
   "metadata": {
    "execution": {
     "iopub.execute_input": "2021-06-30T03:26:32.435349Z",
     "iopub.status.busy": "2021-06-30T03:26:32.433828Z",
     "iopub.status.idle": "2021-06-30T03:26:32.721248Z",
     "shell.execute_reply": "2021-06-30T03:26:32.720462Z",
     "shell.execute_reply.started": "2021-06-30T03:23:12.596457Z"
    },
    "papermill": {
     "duration": 0.397785,
     "end_time": "2021-06-30T03:26:32.721469",
     "exception": false,
     "start_time": "2021-06-30T03:26:32.323684",
     "status": "completed"
    },
    "tags": []
   },
   "outputs": [
    {
     "data": {
      "image/png": "[encoded data removed]",
      "text/plain": [
       "<Figure size 864x360 with 1 Axes>"
      ]
     },
     "metadata": {
      "needs_background": "light"
     },
     "output_type": "display_data"
    }
   ],
   "source": [
    "df01 = df.melt( id_vars=['Frequency of drug usage'],value_vars=['Spend most time'], var_name='cols',  value_name='vals')\n",
    "plt.figure(figsize=(12,5))\n",
    "g =sns.countplot(x=\"Frequency of drug usage\", hue='vals', data=df01[((df['Gender']==\"Female\"))])"
   ]
  },
  {
   "cell_type": "markdown",
   "id": "herbal-population",
   "metadata": {
    "papermill": {
     "duration": 0.072296,
     "end_time": "2021-06-30T03:26:32.870620",
     "exception": false,
     "start_time": "2021-06-30T03:26:32.798324",
     "status": "completed"
    },
    "tags": []
   },
   "source": [
    "* <h4> <b> From the above plot we see Regular usage of drug in Female spends most of time with Friends,One intresting fact to notice is if you spend most of time with Family/Relatives you are most likely not get addicted </b></h4>"
   ]
  },
  {
   "cell_type": "code",
   "execution_count": 22,
   "id": "noted-namibia",
   "metadata": {
    "execution": {
     "iopub.execute_input": "2021-06-30T03:26:33.072522Z",
     "iopub.status.busy": "2021-06-30T03:26:33.069463Z",
     "iopub.status.idle": "2021-06-30T03:26:33.280616Z",
     "shell.execute_reply": "2021-06-30T03:26:33.279881Z",
     "shell.execute_reply.started": "2021-06-30T03:23:12.810014Z"
    },
    "papermill": {
     "duration": 0.33829,
     "end_time": "2021-06-30T03:26:33.280804",
     "exception": false,
     "start_time": "2021-06-30T03:26:32.942514",
     "status": "completed"
    },
    "tags": []
   },
   "outputs": [
    {
     "data": {
      "image/png": "[encoded data removed]",
      "text/plain": [
       "<Figure size 864x360 with 1 Axes>"
      ]
     },
     "metadata": {
      "needs_background": "light"
     },
     "output_type": "display_data"
    }
   ],
   "source": [
    "df01 = df.melt( id_vars=['Frequency of drug usage'],value_vars=['Spend most time'], var_name='cols',  value_name='vals')\n",
    "plt.figure(figsize=(12,5))\n",
    "g =sns.countplot(x=\"Frequency of drug usage\", hue='vals', data=df01[((df['Gender']==\"Male\"))])"
   ]
  },
  {
   "cell_type": "markdown",
   "id": "commercial-closure",
   "metadata": {
    "papermill": {
     "duration": 0.074168,
     "end_time": "2021-06-30T03:26:33.431926",
     "exception": false,
     "start_time": "2021-06-30T03:26:33.357758",
     "status": "completed"
    },
    "tags": []
   },
   "source": [
    "* <h4> <b> From the above plot we see Regular usage of drug in Male spends most of time with Friends.One intresting fact to notice is if you spend most of time with Family/Relatives you are most likely not get addicted  </b></h4>"
   ]
  },
  {
   "cell_type": "code",
   "execution_count": 23,
   "id": "cosmetic-cooper",
   "metadata": {
    "execution": {
     "iopub.execute_input": "2021-06-30T03:26:33.646909Z",
     "iopub.status.busy": "2021-06-30T03:26:33.645774Z",
     "iopub.status.idle": "2021-06-30T03:26:33.854593Z",
     "shell.execute_reply": "2021-06-30T03:26:33.853868Z",
     "shell.execute_reply.started": "2021-06-30T03:23:13.029260Z"
    },
    "papermill": {
     "duration": 0.339508,
     "end_time": "2021-06-30T03:26:33.854779",
     "exception": false,
     "start_time": "2021-06-30T03:26:33.515271",
     "status": "completed"
    },
    "tags": []
   },
   "outputs": [
    {
     "data": {
      "image/png": "[encoded data removed]",
      "text/plain": [
       "<Figure size 864x360 with 1 Axes>"
      ]
     },
     "metadata": {
      "needs_background": "light"
     },
     "output_type": "display_data"
    }
   ],
   "source": [
    "df01 = df.melt( id_vars=['Frequency of drug usage'],value_vars=['Enjoyable with-'], var_name='cols',  value_name='vals')\n",
    "plt.figure(figsize=(12,5))\n",
    "g =sns.countplot(x=\"Frequency of drug usage\", hue='vals', data=df01[((df['Gender']==\"Male\"))])"
   ]
  },
  {
   "cell_type": "markdown",
   "id": "graduate-sharing",
   "metadata": {
    "papermill": {
     "duration": 0.072907,
     "end_time": "2021-06-30T03:26:34.000406",
     "exception": false,
     "start_time": "2021-06-30T03:26:33.927499",
     "status": "completed"
    },
    "tags": []
   },
   "source": [
    "* <h4> <b> From the above plot we see Regular usage of drug in Male are in to usage of multiple drugs </b></h4>"
   ]
  },
  {
   "cell_type": "code",
   "execution_count": 24,
   "id": "hungarian-order",
   "metadata": {
    "execution": {
     "iopub.execute_input": "2021-06-30T03:26:34.172753Z",
     "iopub.status.busy": "2021-06-30T03:26:34.170409Z",
     "iopub.status.idle": "2021-06-30T03:26:34.430044Z",
     "shell.execute_reply": "2021-06-30T03:26:34.428540Z",
     "shell.execute_reply.started": "2021-06-30T03:23:13.246441Z"
    },
    "papermill": {
     "duration": 0.350049,
     "end_time": "2021-06-30T03:26:34.430288",
     "exception": false,
     "start_time": "2021-06-30T03:26:34.080239",
     "status": "completed"
    },
    "tags": []
   },
   "outputs": [
    {
     "data": {
      "image/png": "[encoded data removed]",
      "text/plain": [
       "<Figure size 864x360 with 1 Axes>"
      ]
     },
     "metadata": {
      "needs_background": "light"
     },
     "output_type": "display_data"
    }
   ],
   "source": [
    "df01 = df.melt( id_vars=['Frequency of drug usage'],value_vars=['Enjoyable with-'], var_name='cols',  value_name='vals')\n",
    "plt.figure(figsize=(12,5))\n",
    "g =sns.countplot(x=\"Frequency of drug usage\", hue='vals', data=df01[((df['Gender']==\"Female\"))])"
   ]
  },
  {
   "cell_type": "markdown",
   "id": "latter-creativity",
   "metadata": {
    "papermill": {
     "duration": 0.081836,
     "end_time": "2021-06-30T03:26:34.588220",
     "exception": false,
     "start_time": "2021-06-30T03:26:34.506384",
     "status": "completed"
    },
    "tags": []
   },
   "source": [
    "* <h4> <b> From the above plot we see Regular usage of drug in Female are in to usage of ONE drug </b></h4>"
   ]
  },
  {
   "cell_type": "code",
   "execution_count": 25,
   "id": "found-count",
   "metadata": {
    "execution": {
     "iopub.execute_input": "2021-06-30T03:26:34.836725Z",
     "iopub.status.busy": "2021-06-30T03:26:34.796572Z",
     "iopub.status.idle": "2021-06-30T03:26:34.986655Z",
     "shell.execute_reply": "2021-06-30T03:26:34.985959Z",
     "shell.execute_reply.started": "2021-06-30T03:23:13.453827Z"
    },
    "papermill": {
     "duration": 0.319576,
     "end_time": "2021-06-30T03:26:34.986878",
     "exception": false,
     "start_time": "2021-06-30T03:26:34.667302",
     "status": "completed"
    },
    "tags": []
   },
   "outputs": [
    {
     "data": {
      "image/png": "[encoded data removed]",
      "text/plain": [
       "<Figure size 864x360 with 1 Axes>"
      ]
     },
     "metadata": {
      "needs_background": "light"
     },
     "output_type": "display_data"
    }
   ],
   "source": [
    "df01 = df.melt( id_vars=['Frequency of drug usage'],value_vars=['Satisfied with workplace'], var_name='cols',  value_name='vals')\n",
    "plt.figure(figsize=(12,5))\n",
    "g =sns.countplot(x=\"Frequency of drug usage\", hue='vals', data=df01[((df['Gender']==\"Female\"))])"
   ]
  },
  {
   "cell_type": "markdown",
   "id": "determined-yeast",
   "metadata": {
    "papermill": {
     "duration": 0.081572,
     "end_time": "2021-06-30T03:26:35.149615",
     "exception": false,
     "start_time": "2021-06-30T03:26:35.068043",
     "status": "completed"
    },
    "tags": []
   },
   "source": [
    "* <h4> <b> From the above plot we see Regular usage of drug in Female those who are Satisfied with their work in work place</b></h4>"
   ]
  },
  {
   "cell_type": "code",
   "execution_count": 26,
   "id": "paperback-semiconductor",
   "metadata": {
    "execution": {
     "iopub.execute_input": "2021-06-30T03:26:35.365502Z",
     "iopub.status.busy": "2021-06-30T03:26:35.364282Z",
     "iopub.status.idle": "2021-06-30T03:26:35.546379Z",
     "shell.execute_reply": "2021-06-30T03:26:35.545439Z",
     "shell.execute_reply.started": "2021-06-30T03:23:13.650060Z"
    },
    "papermill": {
     "duration": 0.317503,
     "end_time": "2021-06-30T03:26:35.546647",
     "exception": false,
     "start_time": "2021-06-30T03:26:35.229144",
     "status": "completed"
    },
    "tags": []
   },
   "outputs": [
    {
     "data": {
      "image/png": "[encoded data removed]",
      "text/plain": [
       "<Figure size 864x360 with 1 Axes>"
      ]
     },
     "metadata": {
      "needs_background": "light"
     },
     "output_type": "display_data"
    }
   ],
   "source": [
    "df01 = df.melt( id_vars=['Frequency of drug usage'],value_vars=['Satisfied with workplace'], var_name='cols',  value_name='vals')\n",
    "plt.figure(figsize=(12,5))\n",
    "g =sns.countplot(x=\"Frequency of drug usage\", hue='vals', data=df01[((df['Gender']==\"Male\"))])"
   ]
  },
  {
   "cell_type": "markdown",
   "id": "happy-shopping",
   "metadata": {
    "papermill": {
     "duration": 0.078594,
     "end_time": "2021-06-30T03:26:35.708259",
     "exception": false,
     "start_time": "2021-06-30T03:26:35.629665",
     "status": "completed"
    },
    "tags": []
   },
   "source": [
    " * <h4> <b> From the above plot we see Regular usage of drug in Male are those who are NOT Satisfied with their work in work place</b></h4>"
   ]
  },
  {
   "cell_type": "code",
   "execution_count": 27,
   "id": "organized-thinking",
   "metadata": {
    "execution": {
     "iopub.execute_input": "2021-06-30T03:26:35.920603Z",
     "iopub.status.busy": "2021-06-30T03:26:35.913826Z",
     "iopub.status.idle": "2021-06-30T03:26:36.125187Z",
     "shell.execute_reply": "2021-06-30T03:26:36.124068Z",
     "shell.execute_reply.started": "2021-06-30T03:23:13.830046Z"
    },
    "papermill": {
     "duration": 0.338351,
     "end_time": "2021-06-30T03:26:36.125466",
     "exception": false,
     "start_time": "2021-06-30T03:26:35.787115",
     "status": "completed"
    },
    "tags": []
   },
   "outputs": [
    {
     "data": {
      "image/png": "[encoded data removed]",
      "text/plain": [
       "<Figure size 864x360 with 1 Axes>"
      ]
     },
     "metadata": {
      "needs_background": "light"
     },
     "output_type": "display_data"
    }
   ],
   "source": [
    "df01 = df.melt( id_vars=['Frequency of drug usage'],value_vars=['Friends influence'], var_name='cols',  value_name='vals')\n",
    "plt.figure(figsize=(12,5))\n",
    "g =sns.countplot(x=\"Frequency of drug usage\", hue='vals', data=df01[((df['Gender']==\"Female\"))])"
   ]
  },
  {
   "cell_type": "markdown",
   "id": "distinct-halloween",
   "metadata": {
    "papermill": {
     "duration": 0.08485,
     "end_time": "2021-06-30T03:26:36.295661",
     "exception": false,
     "start_time": "2021-06-30T03:26:36.210811",
     "status": "completed"
    },
    "tags": []
   },
   "source": [
    "* <h4> <b> From the above plot we see Regular usage of drug in Female are those who are NOT influenced by their friends</b></h4>"
   ]
  },
  {
   "cell_type": "code",
   "execution_count": 28,
   "id": "textile-burden",
   "metadata": {
    "execution": {
     "iopub.execute_input": "2021-06-30T03:26:36.518965Z",
     "iopub.status.busy": "2021-06-30T03:26:36.488867Z",
     "iopub.status.idle": "2021-06-30T03:26:36.709087Z",
     "shell.execute_reply": "2021-06-30T03:26:36.708357Z",
     "shell.execute_reply.started": "2021-06-30T03:23:14.018871Z"
    },
    "papermill": {
     "duration": 0.324311,
     "end_time": "2021-06-30T03:26:36.709257",
     "exception": false,
     "start_time": "2021-06-30T03:26:36.384946",
     "status": "completed"
    },
    "tags": []
   },
   "outputs": [
    {
     "data": {
      "image/png": "[encoded data removed]",
      "text/plain": [
       "<Figure size 864x360 with 1 Axes>"
      ]
     },
     "metadata": {
      "needs_background": "light"
     },
     "output_type": "display_data"
    }
   ],
   "source": [
    "df01 = df.melt( id_vars=['Frequency of drug usage'],value_vars=['Friends influence'], var_name='cols',  value_name='vals')\n",
    "plt.figure(figsize=(12,5))\n",
    "g =sns.countplot(x=\"Frequency of drug usage\", hue='vals', data=df01[((df['Gender']==\"Male\"))])"
   ]
  },
  {
   "cell_type": "markdown",
   "id": "atmospheric-biology",
   "metadata": {
    "papermill": {
     "duration": 0.08227,
     "end_time": "2021-06-30T03:26:36.872119",
     "exception": false,
     "start_time": "2021-06-30T03:26:36.789849",
     "status": "completed"
    },
    "tags": []
   },
   "source": [
    "* <h4> <b> From the above plot we see Regular usage of drug in Male are those who are influenced by their friends</b></h4>"
   ]
  },
  {
   "cell_type": "markdown",
   "id": "competent-mauritius",
   "metadata": {
    "papermill": {
     "duration": 0.078934,
     "end_time": "2021-06-30T03:26:37.034518",
     "exception": false,
     "start_time": "2021-06-30T03:26:36.955584",
     "status": "completed"
    },
    "tags": []
   },
   "source": [
    "### One hot Encoding the columns"
   ]
  },
  {
   "cell_type": "code",
   "execution_count": 29,
   "id": "israeli-easter",
   "metadata": {
    "execution": {
     "iopub.execute_input": "2021-06-30T03:26:37.209236Z",
     "iopub.status.busy": "2021-06-30T03:26:37.207828Z",
     "iopub.status.idle": "2021-06-30T03:26:37.228608Z",
     "shell.execute_reply": "2021-06-30T03:26:37.227588Z",
     "shell.execute_reply.started": "2021-06-30T03:23:14.217927Z"
    },
    "papermill": {
     "duration": 0.114216,
     "end_time": "2021-06-30T03:26:37.228822",
     "exception": false,
     "start_time": "2021-06-30T03:26:37.114606",
     "status": "completed"
    },
    "tags": []
   },
   "outputs": [],
   "source": [
    "dfclassification=df.copy()\n",
    "dfclassification['Suicidal thoughts']=dfclassification[['Suicidal thoughts']].apply(lambda x:x.map({'Yes':1,'No':0}))\n",
    "dfclassification['Gender']=dfclassification[['Gender']].apply(lambda x:x.map({'Male':1,'Female':0}))\n",
    "dfclassification['Failure in life']=dfclassification[['Failure in life']].apply(lambda x:x.map({'Yes':1,'No':0}))"
   ]
  },
  {
   "cell_type": "code",
   "execution_count": 30,
   "id": "greater-platform",
   "metadata": {
    "execution": {
     "iopub.execute_input": "2021-06-30T03:26:37.427377Z",
     "iopub.status.busy": "2021-06-30T03:26:37.418639Z",
     "iopub.status.idle": "2021-06-30T03:26:37.459796Z",
     "shell.execute_reply": "2021-06-30T03:26:37.458966Z",
     "shell.execute_reply.started": "2021-06-30T03:23:14.234608Z"
    },
    "papermill": {
     "duration": 0.145709,
     "end_time": "2021-06-30T03:26:37.459985",
     "exception": false,
     "start_time": "2021-06-30T03:26:37.314276",
     "status": "completed"
    },
    "tags": []
   },
   "outputs": [],
   "source": [
    "mylist = list(dfclassification.select_dtypes(include=['object']).columns)\n",
    "dummy1=pd.get_dummies(dfclassification[mylist],drop_first=True)\n",
    "dfclassificationFinal = pd.concat([dummy1,dfclassification['Suicidal thoughts'],dfclassification['Gender'],dfclassification['Failure in life']], axis=1)\n",
    "from sklearn import preprocessing\n",
    "X = dfclassificationFinal.drop('Suicidal thoughts',axis=1).values\n",
    "y = dfclassificationFinal['Suicidal thoughts'].values"
   ]
  },
  {
   "cell_type": "markdown",
   "id": "waiting-river",
   "metadata": {
    "papermill": {
     "duration": 0.08638,
     "end_time": "2021-06-30T03:26:37.629558",
     "exception": false,
     "start_time": "2021-06-30T03:26:37.543178",
     "status": "completed"
    },
    "tags": []
   },
   "source": [
    "## Section 03:- Splitting the Data Equally in to X_train and X_test(Stratified logic)"
   ]
  },
  {
   "cell_type": "code",
   "execution_count": 31,
   "id": "composed-filter",
   "metadata": {
    "execution": {
     "iopub.execute_input": "2021-06-30T03:26:37.805251Z",
     "iopub.status.busy": "2021-06-30T03:26:37.804001Z",
     "iopub.status.idle": "2021-06-30T03:26:37.811334Z",
     "shell.execute_reply": "2021-06-30T03:26:37.810361Z",
     "shell.execute_reply.started": "2021-06-30T03:23:14.274224Z"
    },
    "papermill": {
     "duration": 0.102616,
     "end_time": "2021-06-30T03:26:37.811627",
     "exception": false,
     "start_time": "2021-06-30T03:26:37.709011",
     "status": "completed"
    },
    "tags": []
   },
   "outputs": [
    {
     "name": "stdout",
     "output_type": "stream",
     "text": [
      ">Train: 0=71, 1=34, Test: 0=72, 1=34\n"
     ]
    }
   ],
   "source": [
    "X_train,X_test,y_train,y_test=train_test_split(X,y,test_size=.5,random_state=2,stratify=y)\n",
    "\n",
    "train_0, train_1 = len(y_train[y_train==0]), len(y_train[y_train==1])\n",
    "test_0, test_1 = len(y_test[y_test==0]), len(y_test[y_test==1])\n",
    "print('>Train: 0=%d, 1=%d, Test: 0=%d, 1=%d' % (train_0, train_1, test_0, test_1))"
   ]
  },
  {
   "cell_type": "markdown",
   "id": "agreed-interference",
   "metadata": {
    "papermill": {
     "duration": 0.086367,
     "end_time": "2021-06-30T03:26:37.987438",
     "exception": false,
     "start_time": "2021-06-30T03:26:37.901071",
     "status": "completed"
    },
    "tags": []
   },
   "source": [
    "## Section 04:- Model Building"
   ]
  },
  {
   "cell_type": "markdown",
   "id": "seventh-symbol",
   "metadata": {
    "papermill": {
     "duration": 0.084944,
     "end_time": "2021-06-30T03:26:38.160846",
     "exception": false,
     "start_time": "2021-06-30T03:26:38.075902",
     "status": "completed"
    },
    "tags": []
   },
   "source": [
    "\n",
    "### <b>Model 01:- Support Vector Machine (SVM)</b>"
   ]
  },
  {
   "cell_type": "code",
   "execution_count": 32,
   "id": "vanilla-excuse",
   "metadata": {
    "execution": {
     "iopub.execute_input": "2021-06-30T03:26:38.333161Z",
     "iopub.status.busy": "2021-06-30T03:26:38.331897Z",
     "iopub.status.idle": "2021-06-30T03:26:38.344967Z",
     "shell.execute_reply": "2021-06-30T03:26:38.344263Z",
     "shell.execute_reply.started": "2021-06-30T03:23:14.286670Z"
    },
    "papermill": {
     "duration": 0.103997,
     "end_time": "2021-06-30T03:26:38.345152",
     "exception": false,
     "start_time": "2021-06-30T03:26:38.241155",
     "status": "completed"
    },
    "tags": []
   },
   "outputs": [
    {
     "name": "stdout",
     "output_type": "stream",
     "text": [
      " Training Accuracy is:- 0.8761904761904762\n"
     ]
    },
    {
     "data": {
      "text/plain": [
       "'Test Accuracy is:- 0.6981132075471698'"
      ]
     },
     "execution_count": 32,
     "metadata": {},
     "output_type": "execute_result"
    }
   ],
   "source": [
    "model=SVC()\n",
    "model.fit(X_train,y_train)\n",
    "print(f' Training Accuracy is:- {model.score(X_train,y_train)}')\n",
    "f'Test Accuracy is:- {model.score(X_test,y_test)}'"
   ]
  },
  {
   "cell_type": "markdown",
   "id": "freelance-avenue",
   "metadata": {
    "papermill": {
     "duration": 0.087292,
     "end_time": "2021-06-30T03:26:38.521948",
     "exception": false,
     "start_time": "2021-06-30T03:26:38.434656",
     "status": "completed"
    },
    "tags": []
   },
   "source": [
    "\n",
    "### <b>Model 02:- KNN without Hyper parameter tuning</b>"
   ]
  },
  {
   "cell_type": "code",
   "execution_count": 33,
   "id": "coordinate-remove",
   "metadata": {
    "execution": {
     "iopub.execute_input": "2021-06-30T03:26:38.712220Z",
     "iopub.status.busy": "2021-06-30T03:26:38.710822Z",
     "iopub.status.idle": "2021-06-30T03:26:42.996063Z",
     "shell.execute_reply": "2021-06-30T03:26:42.994396Z",
     "shell.execute_reply.started": "2021-06-30T03:23:14.307514Z"
    },
    "papermill": {
     "duration": 4.388218,
     "end_time": "2021-06-30T03:26:42.996649",
     "exception": false,
     "start_time": "2021-06-30T03:26:38.608431",
     "status": "completed"
    },
    "tags": []
   },
   "outputs": [
    {
     "name": "stdout",
     "output_type": "stream",
     "text": [
      "\n",
      " Best Test accuracy is:-  0.7358490566037735\n"
     ]
    },
    {
     "data": {
      "image/png": "[encoded data removed]",
      "text/plain": [
       "<Figure size 720x288 with 1 Axes>"
      ]
     },
     "metadata": {
      "needs_background": "light"
     },
     "output_type": "display_data"
    }
   ],
   "source": [
    "\n",
    "k = range(1,20)\n",
    "trainingAccuracy = []\n",
    "testAccuracy=[]\n",
    "for i in k:\n",
    "    knn = KNeighborsClassifier(n_neighbors=i,n_jobs=15,p=1,weights='distance')\n",
    "    knn.fit(X_train,y_train)\n",
    "    trainingacc = knn.score(X_train,y_train)\n",
    "    trainingAccuracy.append(trainingacc)\n",
    "    testAccuracy.append(knn.score(X_test,y_test))\n",
    "\n",
    "fig, axes = plt.subplots(nrows=1, ncols=1, figsize=(10,4))\n",
    "plt.xlabel(\"value of K\")\n",
    "plt.ylabel(\"Accuracy of test and training\")\n",
    "plt.title(\"Select best value of k\")\n",
    "plt.plot(k,trainingAccuracy)\n",
    "plt.plot(k,testAccuracy)\n",
    "  #axes[0].legend(['loss','val_loss'])\n",
    "axes.legend([\"Training Accurracy\",\"Test Accuracy\"])\n",
    "print(\"\\n Best Test accuracy is:- \",max(testAccuracy))"
   ]
  },
  {
   "cell_type": "markdown",
   "id": "consolidated-canon",
   "metadata": {
    "papermill": {
     "duration": 0.092696,
     "end_time": "2021-06-30T03:26:43.184907",
     "exception": false,
     "start_time": "2021-06-30T03:26:43.092211",
     "status": "completed"
    },
    "tags": []
   },
   "source": [
    "\n",
    "### <b>Model 02:- KNN With Hyper parameter tuning</b>"
   ]
  },
  {
   "cell_type": "code",
   "execution_count": 34,
   "id": "conservative-warner",
   "metadata": {
    "execution": {
     "iopub.execute_input": "2021-06-30T03:26:43.381319Z",
     "iopub.status.busy": "2021-06-30T03:26:43.380222Z",
     "iopub.status.idle": "2021-06-30T03:26:57.727848Z",
     "shell.execute_reply": "2021-06-30T03:26:57.726627Z",
     "shell.execute_reply.started": "2021-06-30T03:23:18.524365Z"
    },
    "papermill": {
     "duration": 14.45655,
     "end_time": "2021-06-30T03:26:57.728037",
     "exception": false,
     "start_time": "2021-06-30T03:26:43.271487",
     "status": "completed"
    },
    "tags": []
   },
   "outputs": [
    {
     "name": "stdout",
     "output_type": "stream",
     "text": [
      "Best score on 10 folds split Data on Train split is :-  0.7990909090909091\n",
      "\n",
      " Best Param:-  {'n_neighbors': 8, 'p': 1, 'weights': 'distance'}\n",
      "\n",
      " Best KNN Metric:-  KNeighborsClassifier(n_neighbors=8, p=1, weights='distance')\n",
      " \n",
      " Training Accuracy 1.0\n"
     ]
    },
    {
     "data": {
      "text/plain": [
       "'Test Accuracy 0.6698113207547169'"
      ]
     },
     "execution_count": 34,
     "metadata": {},
     "output_type": "execute_result"
    }
   ],
   "source": [
    "k_range = list(range(1,50))\n",
    "weight_options = [\"uniform\", \"distance\"]\n",
    "pe=[1,2]\n",
    "\n",
    "param_grid = dict(n_neighbors = k_range, weights = weight_options,p=pe)\n",
    "knn = KNeighborsClassifier()\n",
    "knngrid = GridSearchCV(knn, param_grid, cv = 10, scoring = 'accuracy',n_jobs=15)\n",
    "knngrid.fit(X_train,y_train)\n",
    "\n",
    "print (\"Best score on 10 folds split Data on Train split is :- \",knngrid.best_score_)\n",
    "print (\"\\n Best Param:- \",knngrid.best_params_)\n",
    "print (\"\\n Best KNN Metric:- \", knngrid.best_estimator_)\n",
    "\n",
    "print(f' \\n Training Accuracy {knngrid.score(X_train,y_train)}')\n",
    "f'Test Accuracy {knngrid.score(X_test,y_test)}'"
   ]
  },
  {
   "cell_type": "code",
   "execution_count": 35,
   "id": "signal-luther",
   "metadata": {
    "execution": {
     "iopub.execute_input": "2021-06-30T03:26:57.902092Z",
     "iopub.status.busy": "2021-06-30T03:26:57.900968Z",
     "iopub.status.idle": "2021-06-30T03:26:58.202251Z",
     "shell.execute_reply": "2021-06-30T03:26:58.202992Z",
     "shell.execute_reply.started": "2021-06-30T03:23:27.494882Z"
    },
    "papermill": {
     "duration": 0.393937,
     "end_time": "2021-06-30T03:26:58.203244",
     "exception": false,
     "start_time": "2021-06-30T03:26:57.809307",
     "status": "completed"
    },
    "tags": []
   },
   "outputs": [
    {
     "data": {
      "text/plain": [
       "Text(69.0, 0.5, 'Truth')"
      ]
     },
     "execution_count": 35,
     "metadata": {},
     "output_type": "execute_result"
    },
    {
     "data": {
      "image/png": "[encoded data removed]",
      "text/plain": [
       "<Figure size 720x504 with 2 Axes>"
      ]
     },
     "metadata": {
      "needs_background": "light"
     },
     "output_type": "display_data"
    }
   ],
   "source": [
    "y_predicted = knngrid.predict(X_test)\n",
    "from sklearn.metrics import confusion_matrix\n",
    "cm = confusion_matrix(y_test, y_predicted)\n",
    "import seaborn as sn\n",
    "plt.figure(figsize = (10,7))\n",
    "sn.heatmap(cm, annot=True,fmt='g')\n",
    "plt.xlabel('Predicted')\n",
    "plt.ylabel('Truth')"
   ]
  },
  {
   "cell_type": "markdown",
   "id": "ethical-generic",
   "metadata": {
    "papermill": {
     "duration": 0.089771,
     "end_time": "2021-06-30T03:26:58.382005",
     "exception": false,
     "start_time": "2021-06-30T03:26:58.292234",
     "status": "completed"
    },
    "tags": []
   },
   "source": [
    "\n",
    "### <b>Model 03:- Logistic Regression</b>"
   ]
  },
  {
   "cell_type": "code",
   "execution_count": 36,
   "id": "acoustic-orlando",
   "metadata": {
    "execution": {
     "iopub.execute_input": "2021-06-30T03:26:58.559326Z",
     "iopub.status.busy": "2021-06-30T03:26:58.558516Z",
     "iopub.status.idle": "2021-06-30T03:26:58.587139Z",
     "shell.execute_reply": "2021-06-30T03:26:58.587690Z",
     "shell.execute_reply.started": "2021-06-30T03:23:27.753482Z"
    },
    "papermill": {
     "duration": 0.119067,
     "end_time": "2021-06-30T03:26:58.587902",
     "exception": false,
     "start_time": "2021-06-30T03:26:58.468835",
     "status": "completed"
    },
    "tags": []
   },
   "outputs": [
    {
     "name": "stdout",
     "output_type": "stream",
     "text": [
      " Training Accuracy 0.8476190476190476\n"
     ]
    },
    {
     "data": {
      "text/plain": [
       "'Test Accuracy 0.7735849056603774'"
      ]
     },
     "execution_count": 36,
     "metadata": {},
     "output_type": "execute_result"
    }
   ],
   "source": [
    "from sklearn.linear_model import LogisticRegression\n",
    "log_model = LogisticRegression(solver='lbfgs', max_iter=1000)\n",
    "\n",
    "log_model.fit(X_train, y_train)\n",
    "print(f' Training Accuracy {log_model.score(X_train,y_train)}')\n",
    "f'Test Accuracy {log_model.score(X_test,y_test)}'"
   ]
  },
  {
   "cell_type": "markdown",
   "id": "breeding-friendship",
   "metadata": {
    "papermill": {
     "duration": 0.084684,
     "end_time": "2021-06-30T03:26:58.753120",
     "exception": false,
     "start_time": "2021-06-30T03:26:58.668436",
     "status": "completed"
    },
    "tags": []
   },
   "source": [
    "\n",
    "### <b>Model 04:- Neural Network</b>"
   ]
  },
  {
   "cell_type": "code",
   "execution_count": 37,
   "id": "italic-communist",
   "metadata": {
    "execution": {
     "iopub.execute_input": "2021-06-30T03:26:58.934093Z",
     "iopub.status.busy": "2021-06-30T03:26:58.933003Z",
     "iopub.status.idle": "2021-06-30T03:27:05.199272Z",
     "shell.execute_reply": "2021-06-30T03:27:05.200516Z",
     "shell.execute_reply.started": "2021-06-30T03:23:27.777385Z"
    },
    "papermill": {
     "duration": 6.361265,
     "end_time": "2021-06-30T03:27:05.200872",
     "exception": false,
     "start_time": "2021-06-30T03:26:58.839607",
     "status": "completed"
    },
    "tags": []
   },
   "outputs": [
    {
     "name": "stdout",
     "output_type": "stream",
     "text": [
      "Fitting 5 folds for each of 12 candidates, totalling 60 fits\n",
      " Training Accuracy 0.7523809523809524\n"
     ]
    },
    {
     "data": {
      "text/plain": [
       "'Test Accuracy 0.6792452830188679'"
      ]
     },
     "execution_count": 37,
     "metadata": {},
     "output_type": "execute_result"
    }
   ],
   "source": [
    "folds = StratifiedKFold(n_splits=5, shuffle=True, random_state=4)\n",
    "param_grid = [\n",
    "        {\n",
    "            'activation' : ['identity', 'logistic', 'tanh', 'relu'],\n",
    "            'solver' : ['lbfgs', 'sgd', 'adam'],            \n",
    "        }\n",
    "       ]\n",
    "clf = GridSearchCV(MLPClassifier(), param_grid, cv=folds,\n",
    "                           scoring='accuracy',n_jobs=-1,verbose = 1,\n",
    ")\n",
    "clf.fit(X_train, y_train)\n",
    "print(f' Training Accuracy {clf.score(X_train,y_train)}')\n",
    "f'Test Accuracy {clf.score(X_test,y_test)}'"
   ]
  },
  {
   "cell_type": "code",
   "execution_count": 38,
   "id": "removed-orchestra",
   "metadata": {
    "execution": {
     "iopub.execute_input": "2021-06-30T03:27:05.491543Z",
     "iopub.status.busy": "2021-06-30T03:27:05.489884Z",
     "iopub.status.idle": "2021-06-30T03:27:05.503521Z",
     "shell.execute_reply": "2021-06-30T03:27:05.504143Z",
     "shell.execute_reply.started": "2021-06-30T03:23:32.190604Z"
    },
    "papermill": {
     "duration": 0.153453,
     "end_time": "2021-06-30T03:27:05.504418",
     "exception": false,
     "start_time": "2021-06-30T03:27:05.350965",
     "status": "completed"
    },
    "tags": []
   },
   "outputs": [
    {
     "name": "stdout",
     "output_type": "stream",
     "text": [
      "Best hyperparameters:  {'activation': 'tanh', 'solver': 'sgd'}\n"
     ]
    }
   ],
   "source": [
    "cv_results = pd.DataFrame(clf.cv_results_)\n",
    "cv_results[cv_results.rank_test_score<5]\n",
    "#print the optimum value of hyperparameters\n",
    "print('Best hyperparameters: ', clf.best_params_)"
   ]
  },
  {
   "cell_type": "markdown",
   "id": "incorrect-jewelry",
   "metadata": {
    "papermill": {
     "duration": 0.095513,
     "end_time": "2021-06-30T03:27:05.697859",
     "exception": false,
     "start_time": "2021-06-30T03:27:05.602346",
     "status": "completed"
    },
    "tags": []
   },
   "source": [
    "\n",
    "### <b>Model 04:- Neural Network with Dense layers</b>"
   ]
  },
  {
   "cell_type": "code",
   "execution_count": 39,
   "id": "sexual-patient",
   "metadata": {
    "execution": {
     "iopub.execute_input": "2021-06-30T03:27:05.897865Z",
     "iopub.status.busy": "2021-06-30T03:27:05.896952Z",
     "iopub.status.idle": "2021-06-30T03:27:07.739935Z",
     "shell.execute_reply": "2021-06-30T03:27:07.739198Z",
     "shell.execute_reply.started": "2021-06-30T03:23:32.206906Z"
    },
    "papermill": {
     "duration": 1.949509,
     "end_time": "2021-06-30T03:27:07.740129",
     "exception": false,
     "start_time": "2021-06-30T03:27:05.790620",
     "status": "completed"
    },
    "tags": []
   },
   "outputs": [
    {
     "name": "stdout",
     "output_type": "stream",
     "text": [
      "Epoch 1/50\n",
      "4/4 [==============================] - 1s 9ms/step - loss: 2.0904 - accuracy: 0.3377\n",
      "Epoch 2/50\n",
      "4/4 [==============================] - 0s 6ms/step - loss: 0.9855 - accuracy: 0.7174\n",
      "Epoch 3/50\n",
      "4/4 [==============================] - 0s 6ms/step - loss: 0.6131 - accuracy: 0.7076\n",
      "Epoch 4/50\n",
      "4/4 [==============================] - 0s 6ms/step - loss: 0.6163 - accuracy: 0.6226\n",
      "Epoch 5/50\n",
      "4/4 [==============================] - 0s 6ms/step - loss: 0.4516 - accuracy: 0.8175\n",
      "Epoch 6/50\n",
      "4/4 [==============================] - 0s 7ms/step - loss: 0.4118 - accuracy: 0.8321\n",
      "Epoch 7/50\n",
      "4/4 [==============================] - 0s 6ms/step - loss: 0.3260 - accuracy: 0.8935\n",
      "Epoch 8/50\n",
      "4/4 [==============================] - 0s 7ms/step - loss: 0.2676 - accuracy: 0.8907\n",
      "Epoch 9/50\n",
      "4/4 [==============================] - 0s 6ms/step - loss: 0.2600 - accuracy: 0.9178\n",
      "Epoch 10/50\n",
      "4/4 [==============================] - 0s 6ms/step - loss: 0.2127 - accuracy: 0.8970\n",
      "Epoch 11/50\n",
      "4/4 [==============================] - 0s 8ms/step - loss: 0.1570 - accuracy: 0.9813\n",
      "Epoch 12/50\n",
      "4/4 [==============================] - 0s 6ms/step - loss: 0.0976 - accuracy: 0.9941\n",
      "Epoch 13/50\n",
      "4/4 [==============================] - 0s 7ms/step - loss: 0.0931 - accuracy: 0.9761\n",
      "Epoch 14/50\n",
      "4/4 [==============================] - 0s 6ms/step - loss: 0.0515 - accuracy: 1.0000\n",
      "\n",
      "Reached 100% accuracy so cancelling training!\n",
      "4/4 [==============================] - 0s 4ms/step - loss: 0.7723 - accuracy: 0.7170\n",
      "accuracy on test data is [0.7722868919372559, 0.7169811129570007]\n"
     ]
    }
   ],
   "source": [
    "class myCallback(tf.keras.callbacks.Callback):\n",
    "  def on_epoch_end(self, epoch, logs={}):\n",
    "    if(logs.get('accuracy')>= 1.0):\n",
    "      print(\"\\nReached 100% accuracy so cancelling training!\")\n",
    "      self.model.stop_training = True\n",
    "callbacks = myCallback()\n",
    "\n",
    "model = tf.keras.models.Sequential([\n",
    "  tf.keras.layers.Flatten(),\n",
    "  tf.keras.layers.Dense(800, activation=tf.nn.relu),\n",
    "  tf.keras.layers.Dense(256, activation=tf.nn.relu),\n",
    "  tf.keras.layers.Dense(256, activation=tf.nn.relu),\n",
    "  tf.keras.layers.Dense(10, activation=tf.nn.softmax)\n",
    "  \n",
    "])\n",
    "model.compile(optimizer='adam', loss='sparse_categorical_crossentropy',metrics=['accuracy'])\n",
    "model.fit(X_train, y_train, epochs=50,batch_size=32,callbacks=[callbacks])\n",
    "print(\"accuracy on test data is\", model.evaluate(X_test, y_test))"
   ]
  },
  {
   "cell_type": "markdown",
   "id": "bronze-forty",
   "metadata": {
    "papermill": {
     "duration": 0.102271,
     "end_time": "2021-06-30T03:27:07.939272",
     "exception": false,
     "start_time": "2021-06-30T03:27:07.837001",
     "status": "completed"
    },
    "tags": []
   },
   "source": [
    "### Spot Check Using Different Algorithms"
   ]
  },
  {
   "cell_type": "code",
   "execution_count": 40,
   "id": "nervous-market",
   "metadata": {
    "execution": {
     "iopub.execute_input": "2021-06-30T03:27:08.156569Z",
     "iopub.status.busy": "2021-06-30T03:27:08.155733Z",
     "iopub.status.idle": "2021-06-30T03:27:08.904888Z",
     "shell.execute_reply": "2021-06-30T03:27:08.904039Z",
     "shell.execute_reply.started": "2021-06-30T03:23:33.151688Z"
    },
    "papermill": {
     "duration": 0.866257,
     "end_time": "2021-06-30T03:27:08.905078",
     "exception": false,
     "start_time": "2021-06-30T03:27:08.038821",
     "status": "completed"
    },
    "tags": []
   },
   "outputs": [
    {
     "data": {
      "text/plain": [
       "[('SGDC', 0.7188644688644689),\n",
       " ('Perc', 0.707219878105954),\n",
       " ('ADA', 0.7012383900928792),\n",
       " ('PAC', 0.6958724202626643),\n",
       " ('KNN', 0.6838658983761132),\n",
       " ('Ridge', 0.6777777777777778),\n",
       " ('XGB', 0.6752450980392157),\n",
       " ('RF', 0.6572897761645493),\n",
       " ('SVC', 0.6480496453900709),\n",
       " ('BNB', 0.6231388329979879),\n",
       " ('NC', 0.6214470284237726),\n",
       " ('DTC', 0.5669934640522876),\n",
       " ('GNB', 0.3354591836734694)]"
      ]
     },
     "execution_count": 40,
     "metadata": {},
     "output_type": "execute_result"
    }
   ],
   "source": [
    "from sklearn.model_selection import cross_val_score\n",
    "from sklearn.linear_model import LogisticRegression, SGDClassifier, Perceptron, RidgeClassifier\n",
    "from sklearn.discriminant_analysis import LinearDiscriminantAnalysis\n",
    "from sklearn.naive_bayes import GaussianNB, BernoulliNB\n",
    "from sklearn.tree import DecisionTreeClassifier\n",
    "from sklearn.ensemble import RandomForestClassifier, GradientBoostingClassifier, AdaBoostClassifier\n",
    "from sklearn.svm import SVC,NuSVC\n",
    "from sklearn.neighbors import KNeighborsClassifier, NearestCentroid\n",
    "from sklearn.linear_model import PassiveAggressiveClassifier\n",
    "from sklearn.metrics import precision_score\n",
    "\n",
    "models =[(\"SVC\", SVC()),\n",
    "         ('KNN',KNeighborsClassifier()),(\"DTC\", DecisionTreeClassifier()),\n",
    "         (\"GNB\", GaussianNB()),(\"SGDC\", SGDClassifier()),(\"Perc\", Perceptron()),\n",
    "         (\"NC\",NearestCentroid()),(\"Ridge\", RidgeClassifier()),\n",
    "         (\"BNB\", BernoulliNB()),('RF',RandomForestClassifier()),('ADA',AdaBoostClassifier()),\n",
    "         ('XGB',GradientBoostingClassifier()),('PAC',PassiveAggressiveClassifier())]\n",
    "pred = []\n",
    "names = []\n",
    "modelsprecision = []\n",
    "\n",
    "for name,model in models:\n",
    "    model.fit(X_train, y_train)\n",
    "    prediction = model.predict(X_test)\n",
    "    score = precision_score(y_test, prediction,average = 'macro')\n",
    "    pred.append(score)\n",
    "    names.append(name)\n",
    "    modelsprecision.append((name,score))\n",
    "    \n",
    "modelsprecision.sort(key=lambda k:k[1],reverse=True)\n",
    "\n",
    "modelsprecision"
   ]
  },
  {
   "cell_type": "markdown",
   "id": "needed-consensus",
   "metadata": {
    "papermill": {
     "duration": 0.099151,
     "end_time": "2021-06-30T03:27:09.103399",
     "exception": false,
     "start_time": "2021-06-30T03:27:09.004248",
     "status": "completed"
    },
    "tags": []
   },
   "source": [
    "## Conclusion:-\n",
    "* Logistic regression proved to be the good modal compared to others with 77% Accuracy on Test Data.\n",
    "\n",
    "## Future work:-\n",
    "This data can be explored with clustering algorithms to find out the pattern among different clusters."
   ]
  }
 ],
 "metadata": {
  "kernelspec": {
   "display_name": "Python 3",
   "language": "python",
   "name": "python3"
  },
  "language_info": {
   "codemirror_mode": {
    "name": "ipython",
    "version": 3
   },
   "file_extension": ".py",
   "mimetype": "text/x-python",
   "name": "python",
   "nbconvert_exporter": "python",
   "pygments_lexer": "ipython3",
   "version": "3.7.10"
  },
  "papermill": {
   "default_parameters": {},
   "duration": 77.600491,
   "end_time": "2021-06-30T03:27:11.379088",
   "environment_variables": {},
   "exception": null,
   "input_path": "__notebook__.ipynb",
   "output_path": "__notebook__.ipynb",
   "parameters": {},
   "start_time": "2021-06-30T03:25:53.778597",
   "version": "2.3.3"
  }
 },
 "nbformat": 4,
 "nbformat_minor": 5
}
